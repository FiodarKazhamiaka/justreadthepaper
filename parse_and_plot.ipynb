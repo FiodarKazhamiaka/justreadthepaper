{
 "cells": [
  {
   "cell_type": "code",
   "execution_count": 122,
   "metadata": {},
   "outputs": [],
   "source": [
    "from bs4 import BeautifulSoup\n",
    "import numpy as np\n",
    "import copy\n",
    "import re\n",
    "import matplotlib.pyplot as plt\n",
    "%matplotlib inline\n",
    "from matplotlib.ticker import PercentFormatter"
   ]
  },
  {
   "cell_type": "code",
   "execution_count": 2,
   "metadata": {},
   "outputs": [],
   "source": [
    "url = \"sosp_program.html\"\n",
    "\n",
    "with open(url) as fp:\n",
    "    soup = BeautifulSoup(fp, 'html.parser')\n"
   ]
  },
  {
   "cell_type": "code",
   "execution_count": 97,
   "metadata": {},
   "outputs": [],
   "source": [
    "# build a list of tuples, where each tuple is a <authors string, youtube video, [long youtube video]>\n",
    "# (long is optional)\n",
    "tuples = []\n",
    "current_tuple = []\n",
    "\n",
    "top_tr = soup.find_all(\"tr\")\n",
    "paper_block = False\n",
    "\n",
    "for tr in top_tr:\n",
    "    \n",
    "    # if in a paper block, grab the author list,\n",
    "    # add it to the tuple, and append the tuple to the list\n",
    "    if paper_block:\n",
    "        authorlist_td = tr.td\n",
    "        current_tuple.insert(0,str(list(authorlist_td)[0]))\n",
    "        tuples.append(copy.deepcopy(current_tuple))\n",
    "        \n",
    "        #clear current tuple\n",
    "        current_tuple = []\n",
    "        paper_block = False\n",
    "    else: \n",
    "        all_span1 = tr.find_all(\"span\")\n",
    "        for span1 in all_span1:\n",
    "            all_span2 = span1.find_all(\"span\")\n",
    "            for span2 in all_span2:\n",
    "                all_a = span2.find_all(\"a\")\n",
    "                for a in all_a:\n",
    "                    if \"youtu.be\" in str(a):\n",
    "                        paper_block = True\n",
    "                        current_tuple.append(str(a))"
   ]
  },
  {
   "cell_type": "code",
   "execution_count": 98,
   "metadata": {},
   "outputs": [],
   "source": [
    "industry = ['Microsoft', 'Amazon', 'Facebook', 'Huawei', 'Nokia', 'VMware', 'Databricks', 'Google']"
   ]
  },
  {
   "cell_type": "code",
   "execution_count": 99,
   "metadata": {},
   "outputs": [],
   "source": [
    "# build features: \n",
    "# fraction of industry authors, \n",
    "# number of videos\n",
    "all_features = []\n",
    "all_frac = []\n",
    "all_numvid = []\n",
    "for t in tuples:\n",
    "    \n",
    "    # first, get fraction of industry authors\n",
    "    authors_string = t[0]\n",
    "    affiliations_list = re.findall(r'\\(.*?\\)', authors_string)\n",
    "    #print(affiliations_list)\n",
    "    num_industry = len([a for a in affiliations_list if any(company in a for company in industry)])\n",
    "    #print(num_industry)\n",
    "    frac_industry_authors = num_industry/len(affiliations_list)\n",
    "    all_frac.append(frac_industry_authors)\n",
    "    \n",
    "    # second, number of videos\n",
    "    number_of_videos = 1\n",
    "    if len(t) > 2:\n",
    "        number_of_videos = 2\n",
    "    \n",
    "    all_numvid.append(number_of_videos)\n",
    "    all_features.append((frac_industry_authors, number_of_videos))"
   ]
  },
  {
   "cell_type": "code",
   "execution_count": 125,
   "metadata": {},
   "outputs": [
    {
     "data": {
      "text/plain": [
       "Text(0.5, -0.02, 'Fraction of authors with industry affiliation')"
      ]
     },
     "execution_count": 125,
     "metadata": {},
     "output_type": "execute_result"
    },
    {
     "data": {
      "image/png": "[encoded data removed]",
      "text/plain": [
       "<Figure size 288x288 with 1 Axes>"
      ]
     },
     "metadata": {
      "needs_background": "light"
     },
     "output_type": "display_data"
    },
    {
     "data": {
      "image/png": "[encoded data removed]",
      "text/plain": [
       "<Figure size 432x288 with 2 Axes>"
      ]
     },
     "metadata": {
      "needs_background": "light"
     },
     "output_type": "display_data"
    }
   ],
   "source": [
    "# Analysis\n",
    "short_vid_fracs = [frac for (frac, num_vid) in all_features if num_vid == 1]\n",
    "both_vids_fracs = [frac for (frac, num_vid) in all_features if num_vid == 2]\n",
    "\n",
    "fig, ax = plt.subplots(figsize=[4,4])\n",
    "ax.bar([1,2],\n",
    "       [np.mean(short_vid_fracs), np.mean(both_vids_fracs)], \n",
    "       color=[[0.93, 0.57, 0.17],[0.29, 0.28, 0.70]])\n",
    "ax.set_xticks([1,2])\n",
    "ax.set_xticklabels(('Only made short vid.', 'Also made long vid.'))\n",
    "ax.set_ylabel('Avg. % of authors with industry affil.')\n",
    "ax.yaxis.set_major_formatter(PercentFormatter(1))\n",
    "\n",
    "n_bins = 4\n",
    "fig, axs = plt.subplots(1, 2, sharey=True, tight_layout=True)\n",
    "\n",
    "axs[0].hist(short_vid_fracs,\n",
    "            weights=np.ones(len(short_vid_fracs)) / len(short_vid_fracs),\n",
    "            bins=n_bins,\n",
    "            color=[0.93, 0.57, 0.17])\n",
    "axs[0].set_title(\"Only made short vid.\")\n",
    "axs[0].set_ylabel(\"Fraction of papers\")\n",
    "axs[0].yaxis.set_major_formatter(PercentFormatter(1))\n",
    "\n",
    "\n",
    "axs[1].hist(both_vids_fracs,\n",
    "            weights=np.ones(len(both_vids_fracs)) / len(both_vids_fracs),\n",
    "            bins=n_bins,\n",
    "            color=[0.29, 0.28, 0.70])\n",
    "axs[1].set_title(\"Also made a long vid.\")\n",
    "axs[1].set_xlim([0,1])\n",
    "\n",
    "fig.text(0.5, -0.02, 'Fraction of authors with industry affiliation', ha='center')"
   ]
  },
  {
   "cell_type": "code",
   "execution_count": null,
   "metadata": {},
   "outputs": [],
   "source": []
  }
 ],
 "metadata": {
  "kernelspec": {
   "display_name": "Python 3",
   "language": "python",
   "name": "python3"
  },
  "language_info": {
   "codemirror_mode": {
    "name": "ipython",
    "version": 3
   },
   "file_extension": ".py",
   "mimetype": "text/x-python",
   "name": "python",
   "nbconvert_exporter": "python",
   "pygments_lexer": "ipython3",
   "version": "3.7.4"
  }
 },
 "nbformat": 4,
 "nbformat_minor": 4
}
